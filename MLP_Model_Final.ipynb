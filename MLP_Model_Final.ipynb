{
 "cells": [
  {
   "cell_type": "code",
   "execution_count": null,
   "metadata": {
    "id": "t--fi8R-04to"
   },
   "outputs": [],
   "source": [
    "import pandas as pd\n",
    "import numpy as np\n",
    "import os\n",
    "import glob \n",
    "import librosa\n",
    "import librosa.display\n",
    "import matplotlib.pyplot as plt\n",
    "import seaborn as sns\n",
    "\n",
    "from sklearn.model_selection import train_test_split, cross_val_score\n",
    "from sklearn.metrics import classification_report, confusion_matrix, accuracy_score\n",
    "from sklearn.preprocessing import StandardScaler\n",
    "from sklearn.utils.multiclass import unique_labels\n",
    "from sklearn.neural_network import MLPClassifier\n",
    "from sklearn.ensemble import VotingClassifier\n",
    "\n",
    "import lightgbm as lgb\n",
    "from tqdm import tqdm\n",
    "\n",
    "import warnings\n",
    "warnings.filterwarnings('ignore')"
   ]
  },
  {
   "cell_type": "code",
   "execution_count": null,
   "metadata": {
    "id": "ej2cq7RQ0-BF"
   },
   "outputs": [],
   "source": [
    "def extract_feature(file_name):\n",
    "    X, sample_rate = librosa.load(file_name)\n",
    "    stft=np.abs(librosa.stft(X))\n",
    "    result=np.array([])\n",
    "    mfccs=np.mean(librosa.feature.mfcc(y=X, sr=sample_rate, n_mfcc=40).T,axis=0)\n",
    "    result=np.hstack((result, mfccs))\n",
    "    chroma=np.mean(librosa.feature.chroma_stft(S=stft, sr=sample_rate).T,axis=0)\n",
    "    result=np.hstack((result, chroma))\n",
    "    mel=np.mean(librosa.feature.melspectrogram(X, sr=sample_rate).T,axis=0)\n",
    "    result=np.hstack((result, mel))\n",
    "    return result"
   ]
  },
  {
   "cell_type": "code",
   "execution_count": null,
   "metadata": {
    "id": "rPWoiApZ1DYF"
   },
   "outputs": [],
   "source": [
    "emotions={\n",
    "  '01':'neutral',\n",
    "  '02':'calm',\n",
    "  '03':'happy',\n",
    "  '04':'sad',\n",
    "  '05':'angry',\n",
    "  '06':'fearful',\n",
    "  '07':'disgust',\n",
    "  '08':'surprised'\n",
    "}\n",
    "\n",
    "def gender(g):\n",
    "    if int(g[0:2]) % 2 == 0:\n",
    "        return 'female'\n",
    "    else:\n",
    "        return 'male'"
   ]
  },
  {
   "cell_type": "code",
   "execution_count": null,
   "metadata": {
    "id": "6kd53sYW1DbJ"
   },
   "outputs": [],
   "source": [
    "def load_data(test_size=0.2):\n",
    "    x,y=[],[]\n",
    "    for file in tqdm(glob.glob(\"/content/drive/MyDrive/LearnAI_Ravindar_Projects/PJ_9_Speech/speech/Actor_*/*.wav\")):\n",
    "        file_name=os.path.basename(file)\n",
    "        if(file_name.split(\"-\")[2] in emotions):\n",
    "          emotion=emotions[file_name.split(\"-\")[2]] + '_' + gender(file_name.split(\"-\")[-1])\n",
    "          feature=extract_feature(file)\n",
    "          x.append(feature)\n",
    "          y.append(emotion)\n",
    "    return train_test_split(np.array(x), y, test_size=test_size, random_state=9)"
   ]
  },
  {
   "cell_type": "code",
   "execution_count": null,
   "metadata": {
    "colab": {
     "base_uri": "https://localhost:8080/"
    },
    "executionInfo": {
     "elapsed": 669235,
     "status": "ok",
     "timestamp": 1647202012781,
     "user": {
      "displayName": "LearnAI apss",
      "photoUrl": "https://lh3.googleusercontent.com/a/default-user=s64",
      "userId": "10463252222156590851"
     },
     "user_tz": -330
    },
    "id": "C-_gxA8v1DeO",
    "outputId": "93aca503-d5e8-465b-e835-abac9431cd55"
   },
   "outputs": [
    {
     "name": "stderr",
     "output_type": "stream",
     "text": [
      "100%|██████████| 1440/1440 [11:04<00:00,  2.17it/s]\n"
     ]
    }
   ],
   "source": [
    "X_train, X_test, y_train, y_test = load_data()"
   ]
  },
  {
   "cell_type": "code",
   "execution_count": null,
   "metadata": {
    "colab": {
     "base_uri": "https://localhost:8080/"
    },
    "executionInfo": {
     "elapsed": 8,
     "status": "ok",
     "timestamp": 1647202012782,
     "user": {
      "displayName": "LearnAI apss",
      "photoUrl": "https://lh3.googleusercontent.com/a/default-user=s64",
      "userId": "10463252222156590851"
     },
     "user_tz": -330
    },
    "id": "xLX6iL261DhU",
    "outputId": "fb1698b6-1cef-4b65-b8a6-57f927d6f055"
   },
   "outputs": [
    {
     "name": "stdout",
     "output_type": "stream",
     "text": [
      "(1152, 288)\n",
      "Features extracted: 180\n"
     ]
    }
   ],
   "source": [
    "print((X_train.shape[0], X_test.shape[0]))\n",
    "print(f'Features extracted: {X_train.shape[1]}')"
   ]
  },
  {
   "cell_type": "code",
   "execution_count": null,
   "metadata": {
    "id": "7WiywvOB1Dkd"
   },
   "outputs": [],
   "source": [
    "scaler = StandardScaler()\n",
    "X_train = scaler.fit_transform(X_train)\n",
    "X_test = scaler.transform(X_test)"
   ]
  },
  {
   "cell_type": "code",
   "execution_count": null,
   "metadata": {
    "colab": {
     "base_uri": "https://localhost:8080/"
    },
    "executionInfo": {
     "elapsed": 7,
     "status": "ok",
     "timestamp": 1647202012783,
     "user": {
      "displayName": "LearnAI apss",
      "photoUrl": "https://lh3.googleusercontent.com/a/default-user=s64",
      "userId": "10463252222156590851"
     },
     "user_tz": -330
    },
    "id": "vfvx2cr21Dnj",
    "outputId": "d85e313d-3a19-448c-81f4-bb8bb9059f19"
   },
   "outputs": [
    {
     "data": {
      "text/plain": [
       "['X.train']"
      ]
     },
     "execution_count": 9,
     "metadata": {},
     "output_type": "execute_result"
    }
   ],
   "source": [
    "import joblib\n",
    "xt = 'X.train'\n",
    "joblib.dump(X_train, xt, compress=9)"
   ]
  },
  {
   "cell_type": "code",
   "execution_count": null,
   "metadata": {
    "id": "uhouKxDd1Dq-"
   },
   "outputs": [],
   "source": [
    "lgb_params = {'num_leaves': 5, \n",
    "              'max_depth': 58, \n",
    "              'n_estimators': 14734, \n",
    "              'subsample_for_bin': 491645, \n",
    "              'min_data_in_leaf': 27, \n",
    "              'reg_alpha': 1.744123586157066, \n",
    "              'colsample_bytree': 0.6495503686746514, \n",
    "              'learning_rate': 0.8581745963346554, \n",
    "              'boosting_type': 'dart'}\n",
    "mlp2_params = {'activation': 'relu', \n",
    "              'solver': 'lbfgs', \n",
    "              'hidden_layer_sizes': 1283, \n",
    "              'alpha': 0.3849485717707319, \n",
    "              'batch_size': 163, \n",
    "              'learning_rate': 'constant',\n",
    "              'max_iter':1000}"
   ]
  },
  {
   "cell_type": "code",
   "execution_count": null,
   "metadata": {
    "id": "FztIfQjA1X3A"
   },
   "outputs": [],
   "source": [
    "v_params = {'estimators':[('mlp2', MLPClassifier(**mlp2_params)), \n",
    "                          ('lgb', lgb.LGBMClassifier(**lgb_params))], \n",
    "            'voting':'soft'}\n",
    "models = {}\n",
    "models['v'] = VotingClassifier(**v_params)\n",
    "#models['mlp'] = MLPClassifier(**mlp_params)\n",
    "model_abrv = {'v':'Voting Classifier: MLP2, LGB'}#,'mlp':'MLP'}"
   ]
  },
  {
   "cell_type": "code",
   "execution_count": null,
   "metadata": {
    "id": "FErUgE6e1X6F"
   },
   "outputs": [],
   "source": [
    "def print_confusion_matrix(confusion_matrix, class_names, figsize = (10,7), fontsize=14, model='clf', save=True):\n",
    "    df_cm = pd.DataFrame(\n",
    "        confusion_matrix, index=class_names, columns=class_names, \n",
    "    )\n",
    "    fig, ax = plt.subplots(1, 1, figsize=figsize)\n",
    "    try:\n",
    "        heatmap = sns.heatmap(df_cm, annot=True, ax=ax, fmt=\"d\", cmap=plt.cm.Oranges)\n",
    "    except ValueError:\n",
    "        raise ValueError(\"Confusion matrix values must be integers.\")\n",
    "        \n",
    "    heatmap.yaxis.set_ticklabels(heatmap.yaxis.get_ticklabels(), rotation=0, ha='right', fontsize=fontsize)\n",
    "    heatmap.xaxis.set_ticklabels(heatmap.xaxis.get_ticklabels(), rotation=45, ha='right', fontsize=fontsize)\n",
    "    plt.ylabel('True label')\n",
    "    plt.xlabel('Predicted label')\n",
    "    plt.tight_layout()\n",
    "    b, t = plt.ylim() \n",
    "    b += 0.5 \n",
    "    t -= 0.5 \n",
    "    plt.ylim(b, t) \n",
    "    if save == True:\n",
    "        plt.savefig('confusion_matrix.jpg')\n",
    "    plt.show()"
   ]
  },
  {
   "cell_type": "code",
   "execution_count": null,
   "metadata": {
    "id": "IxBTSmAJ1X9e"
   },
   "outputs": [],
   "source": [
    "def model(clf, X_train=X_train, X_test=X_test, y_train=y_train, y_test=y_test, models=models, save=False, print_stat=True, inc_train=False, cv=False):\n",
    "    clf_model = models[clf]\n",
    "    clf_model.fit(X_train, y_train)\n",
    "    y_pred = clf_model.predict(X_test)\n",
    "    if print_stat == True:\n",
    "        clf_report = pd.DataFrame(classification_report(y_test,y_pred, output_dict=True)).T\n",
    "        clf_report.to_csv('tuned_' + model_abrv[clf] + '_classification_report.csv')\n",
    "        print(model_abrv[clf])\n",
    "        print('\\nTest Stats\\n', classification_report(y_test,y_pred))\n",
    "        print_confusion_matrix(confusion_matrix(y_test, y_pred), unique_labels(y_test, y_pred), model=clf)\n",
    "        if inc_train == True:\n",
    "            print(model_abrv[clf])\n",
    "            print('\\nTrain Stats\\n', classification_report(y_train,clf_model.predict(X_train)))\n",
    "            print_confusion_matrix(confusion_matrix(y_train, clf_model.predict(X_train)), unique_labels(y_test, y_pred), model=clf)\n",
    "    if cv == True:\n",
    "        print(model_abrv[clf] + ' CV Accuracy:',  \n",
    "              np.mean(cross_val_score(clf_model, X_train, y_train, cv=5, scoring='accuracy')))\n",
    "    if save == True:\n",
    "        return clf_model"
   ]
  },
  {
   "cell_type": "code",
   "execution_count": null,
   "metadata": {
    "colab": {
     "base_uri": "https://localhost:8080/"
    },
    "executionInfo": {
     "elapsed": 2172919,
     "status": "ok",
     "timestamp": 1647204185697,
     "user": {
      "displayName": "LearnAI apss",
      "photoUrl": "https://lh3.googleusercontent.com/a/default-user=s64",
      "userId": "10463252222156590851"
     },
     "user_tz": -330
    },
    "id": "_LU85Tue1YA_",
    "outputId": "c0bebfc3-5eae-486b-c4de-2d0b8c805600"
   },
   "outputs": [
    {
     "name": "stdout",
     "output_type": "stream",
     "text": [
      "Voting Classifier: MLP2, LGB CV Accuracy: 0.6944325239977414\n"
     ]
    }
   ],
   "source": [
    "for key in models.keys():\n",
    "    fmodel=model(key,save=True,print_stat=False,cv=True)"
   ]
  },
  {
   "cell_type": "code",
   "execution_count": null,
   "metadata": {
    "colab": {
     "base_uri": "https://localhost:8080/"
    },
    "executionInfo": {
     "elapsed": 8304,
     "status": "ok",
     "timestamp": 1647204193998,
     "user": {
      "displayName": "LearnAI apss",
      "photoUrl": "https://lh3.googleusercontent.com/a/default-user=s64",
      "userId": "10463252222156590851"
     },
     "user_tz": -330
    },
    "id": "UDtNj-YU1oJT",
    "outputId": "3a6379d2-2b77-489f-d9de-018b003d5423"
   },
   "outputs": [
    {
     "data": {
      "text/plain": [
       "['/content/drive/MyDrive/LearnAI_Ravindar_Projects/PJ_9_Speech/Emotion_Voice_Detection_Model.h5']"
      ]
     },
     "execution_count": 15,
     "metadata": {},
     "output_type": "execute_result"
    }
   ],
   "source": [
    "import joblib\n",
    "model_name = '/content/drive/MyDrive/LearnAI_Ravindar_Projects/PJ_9_Speech/Emotion_Voice_Detection_Model.h5'\n",
    "save_dir = '/content'\n",
    "fmodel_path = os.path.join(save_dir, model_name)\n",
    "joblib.dump(fmodel, fmodel_path, compress=9)"
   ]
  },
  {
   "cell_type": "code",
   "execution_count": null,
   "metadata": {
    "id": "rYuSQ1Ok2kjz"
   },
   "outputs": [],
   "source": []
  }
 ],
 "metadata": {
  "colab": {
   "authorship_tag": "ABX9TyMhbAA5asPPi41t2xYHa22M",
   "mount_file_id": "1nHrS1kENdyARwvAehhcGjYDNTwZ2Wkbg",
   "name": "MLP_Model_Final.ipynb",
   "provenance": []
  },
  "kernelspec": {
   "display_name": "Python 3 (ipykernel)",
   "language": "python",
   "name": "python3"
  },
  "language_info": {
   "codemirror_mode": {
    "name": "ipython",
    "version": 3
   },
   "file_extension": ".py",
   "mimetype": "text/x-python",
   "name": "python",
   "nbconvert_exporter": "python",
   "pygments_lexer": "ipython3",
   "version": "3.12.1"
  }
 },
 "nbformat": 4,
 "nbformat_minor": 4
}
