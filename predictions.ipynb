{
 "cells": [
  {
   "cell_type": "code",
   "execution_count": 7,
   "metadata": {
    "executionInfo": {
     "elapsed": 2386,
     "status": "ok",
     "timestamp": 1647263087202,
     "user": {
      "displayName": "LearnAI apss",
      "photoUrl": "https://lh3.googleusercontent.com/a/default-user=s64",
      "userId": "10463252222156590851"
     },
     "user_tz": -330
    },
    "id": "iRQrSKV-h8fB"
   },
   "outputs": [],
   "source": [
    "import librosa\n",
    "import numpy as np\n",
    "def extract(file_name):\n",
    "    X, sample_rate = librosa.load(file_name)\n",
    "    stft=np.abs(librosa.stft(X))\n",
    "    result=np.array([])\n",
    "    mfccs=np.mean(librosa.feature.mfcc(y=X, sr=sample_rate, n_mfcc=40).T,axis=0)\n",
    "    result=np.hstack((result, mfccs))\n",
    "    chroma=np.mean(librosa.feature.chroma_stft(S=stft, sr=sample_rate).T,axis=0)\n",
    "    result=np.hstack((result, chroma))\n",
    "    mel=np.mean(librosa.feature.melspectrogram(X, sr=sample_rate).T,axis=0)\n",
    "    result=np.hstack((result, mel))\n",
    "    return result"
   ]
  },
  {
   "cell_type": "code",
   "execution_count": 12,
   "metadata": {
    "executionInfo": {
     "elapsed": 569,
     "status": "ok",
     "timestamp": 1647263217297,
     "user": {
      "displayName": "LearnAI apss",
      "photoUrl": "https://lh3.googleusercontent.com/a/default-user=s64",
      "userId": "10463252222156590851"
     },
     "user_tz": -330
    },
    "id": "ACaoPCElglHO"
   },
   "outputs": [],
   "source": [
    "import joblib\n",
    "import numpy as np\n",
    "from sklearn.preprocessing import StandardScaler\n",
    "#import feature\n",
    "import speech_recognition as sr\n",
    "\n",
    "def predict(filename):\n",
    "    fmodel_path = '/content/drive/MyDrive/LearnAI_Ravindar_Projects/PJ_9_Speech/Emotion_Voice_Detection_Model.h5'\n",
    "    result=[]\n",
    "    xtr = joblib.load('/content/drive/MyDrive/LearnAI_Ravindar_Projects/PJ_9_Speech/X.train')\n",
    "    scaler = StandardScaler()\n",
    "    scaler.fit_transform(xtr)\n",
    "    clf2 = joblib.load(fmodel_path)\n",
    "    j=np.array(extract(filename))\n",
    "    k = np.expand_dims(j, axis=0)\n",
    "    k = scaler.transform(k)\n",
    "    result.append(clf2.predict(k)[0])\n",
    "\n",
    "    r = sr.Recognizer()\n",
    "    with sr.AudioFile(filename) as source:\n",
    "        audio_data = r.record(source)\n",
    "        try:\n",
    "            text = r.recognize_google(audio_data)\n",
    "        except sr.UnknownValueError:  \n",
    "            text=\"*I could not understand audio*\" \n",
    "        result.append(text)\n",
    "    print(result)"
   ]
  },
  {
   "cell_type": "code",
   "execution_count": 13,
   "metadata": {
    "colab": {
     "base_uri": "https://localhost:8080/"
    },
    "executionInfo": {
     "elapsed": 3589,
     "status": "ok",
     "timestamp": 1647263221362,
     "user": {
      "displayName": "LearnAI apss",
      "photoUrl": "https://lh3.googleusercontent.com/a/default-user=s64",
      "userId": "10463252222156590851"
     },
     "user_tz": -330
    },
    "id": "Bqj0j0iggy3x",
    "outputId": "2b013615-8b2c-4e93-8e2b-f8535f9f7304"
   },
   "outputs": [
    {
     "name": "stdout",
     "output_type": "stream",
     "text": [
      "['neutral_female', 'kids are talking by the door']\n"
     ]
    }
   ],
   "source": [
    "predict(\"/content/drive/MyDrive/LearnAI_Ravindar_Projects/PJ_9_Speech/speech/Actor_14/03-01-01-01-01-01-14.wav\")"
   ]
  },
  {
   "cell_type": "code",
   "execution_count": null,
   "metadata": {
    "id": "DPUzuQ1phL9n"
   },
   "outputs": [],
   "source": []
  }
 ],
 "metadata": {
  "colab": {
   "authorship_tag": "ABX9TyO03MVy0yFSqQrcaTOn0GZ8",
   "mount_file_id": "1WQbuoyV5fb15XoyO9SwYOrlvye_5RJj-",
   "name": "predictions.ipynb",
   "provenance": []
  },
  "kernelspec": {
   "display_name": "Python 3 (ipykernel)",
   "language": "python",
   "name": "python3"
  },
  "language_info": {
   "codemirror_mode": {
    "name": "ipython",
    "version": 3
   },
   "file_extension": ".py",
   "mimetype": "text/x-python",
   "name": "python",
   "nbconvert_exporter": "python",
   "pygments_lexer": "ipython3",
   "version": "3.12.1"
  }
 },
 "nbformat": 4,
 "nbformat_minor": 4
}
