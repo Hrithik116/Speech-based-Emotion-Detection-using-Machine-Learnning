{
 "cells": [
  {
   "cell_type": "code",
   "execution_count": 1,
   "metadata": {
    "colab": {
     "base_uri": "https://localhost:8080/"
    },
    "executionInfo": {
     "elapsed": 8513,
     "status": "ok",
     "timestamp": 1647199481555,
     "user": {
      "displayName": "LearnAI apss",
      "photoUrl": "https://lh3.googleusercontent.com/a/default-user=s64",
      "userId": "10463252222156590851"
     },
     "user_tz": -330
    },
    "id": "b5fJ7WUJuo9X",
    "outputId": "c5dadb00-435c-4351-902c-47864ec398bd"
   },
   "outputs": [
    {
     "name": "stdout",
     "output_type": "stream",
     "text": [
      "Requirement already satisfied: librosa in /usr/local/lib/python3.7/dist-packages (0.8.1)\n",
      "Requirement already satisfied: soundfile in /usr/local/lib/python3.7/dist-packages (0.10.3.post1)\n",
      "Requirement already satisfied: numpy in /usr/local/lib/python3.7/dist-packages (1.21.5)\n",
      "Requirement already satisfied: sklearn in /usr/local/lib/python3.7/dist-packages (0.0)\n",
      "Collecting pyaudio\n",
      "  Downloading PyAudio-0.2.11.tar.gz (37 kB)\n",
      "Requirement already satisfied: scipy>=1.0.0 in /usr/local/lib/python3.7/dist-packages (from librosa) (1.4.1)\n",
      "Requirement already satisfied: resampy>=0.2.2 in /usr/local/lib/python3.7/dist-packages (from librosa) (0.2.2)\n",
      "Requirement already satisfied: joblib>=0.14 in /usr/local/lib/python3.7/dist-packages (from librosa) (1.1.0)\n",
      "Requirement already satisfied: decorator>=3.0.0 in /usr/local/lib/python3.7/dist-packages (from librosa) (4.4.2)\n",
      "Requirement already satisfied: packaging>=20.0 in /usr/local/lib/python3.7/dist-packages (from librosa) (21.3)\n",
      "Requirement already satisfied: audioread>=2.0.0 in /usr/local/lib/python3.7/dist-packages (from librosa) (2.1.9)\n",
      "Requirement already satisfied: pooch>=1.0 in /usr/local/lib/python3.7/dist-packages (from librosa) (1.6.0)\n",
      "Requirement already satisfied: numba>=0.43.0 in /usr/local/lib/python3.7/dist-packages (from librosa) (0.51.2)\n",
      "Requirement already satisfied: scikit-learn!=0.19.0,>=0.14.0 in /usr/local/lib/python3.7/dist-packages (from librosa) (1.0.2)\n",
      "Requirement already satisfied: cffi>=1.0 in /usr/local/lib/python3.7/dist-packages (from soundfile) (1.15.0)\n",
      "Requirement already satisfied: pycparser in /usr/local/lib/python3.7/dist-packages (from cffi>=1.0->soundfile) (2.21)\n",
      "Requirement already satisfied: setuptools in /usr/local/lib/python3.7/dist-packages (from numba>=0.43.0->librosa) (57.4.0)\n",
      "Requirement already satisfied: llvmlite<0.35,>=0.34.0.dev0 in /usr/local/lib/python3.7/dist-packages (from numba>=0.43.0->librosa) (0.34.0)\n",
      "Requirement already satisfied: pyparsing!=3.0.5,>=2.0.2 in /usr/local/lib/python3.7/dist-packages (from packaging>=20.0->librosa) (3.0.7)\n",
      "Requirement already satisfied: appdirs>=1.3.0 in /usr/local/lib/python3.7/dist-packages (from pooch>=1.0->librosa) (1.4.4)\n",
      "Requirement already satisfied: requests>=2.19.0 in /usr/local/lib/python3.7/dist-packages (from pooch>=1.0->librosa) (2.23.0)\n",
      "Requirement already satisfied: urllib3!=1.25.0,!=1.25.1,<1.26,>=1.21.1 in /usr/local/lib/python3.7/dist-packages (from requests>=2.19.0->pooch>=1.0->librosa) (1.24.3)\n",
      "Requirement already satisfied: idna<3,>=2.5 in /usr/local/lib/python3.7/dist-packages (from requests>=2.19.0->pooch>=1.0->librosa) (2.10)\n",
      "Requirement already satisfied: chardet<4,>=3.0.2 in /usr/local/lib/python3.7/dist-packages (from requests>=2.19.0->pooch>=1.0->librosa) (3.0.4)\n",
      "Requirement already satisfied: certifi>=2017.4.17 in /usr/local/lib/python3.7/dist-packages (from requests>=2.19.0->pooch>=1.0->librosa) (2021.10.8)\n",
      "Requirement already satisfied: six>=1.3 in /usr/local/lib/python3.7/dist-packages (from resampy>=0.2.2->librosa) (1.15.0)\n",
      "Requirement already satisfied: threadpoolctl>=2.0.0 in /usr/local/lib/python3.7/dist-packages (from scikit-learn!=0.19.0,>=0.14.0->librosa) (3.1.0)\n",
      "Building wheels for collected packages: pyaudio\n",
      "  Building wheel for pyaudio (setup.py) ... \u001b[?25lerror\n",
      "\u001b[31m  ERROR: Failed building wheel for pyaudio\u001b[0m\n",
      "\u001b[?25h  Running setup.py clean for pyaudio\n",
      "Failed to build pyaudio\n",
      "Installing collected packages: pyaudio\n",
      "    Running setup.py install for pyaudio ... \u001b[?25l\u001b[?25herror\n",
      "\u001b[31mERROR: Command errored out with exit status 1: /usr/bin/python3 -u -c 'import io, os, sys, setuptools, tokenize; sys.argv[0] = '\"'\"'/tmp/pip-install-kbkp_747/pyaudio_6e9e07b5abe646c5b67644869f1da828/setup.py'\"'\"'; __file__='\"'\"'/tmp/pip-install-kbkp_747/pyaudio_6e9e07b5abe646c5b67644869f1da828/setup.py'\"'\"';f = getattr(tokenize, '\"'\"'open'\"'\"', open)(__file__) if os.path.exists(__file__) else io.StringIO('\"'\"'from setuptools import setup; setup()'\"'\"');code = f.read().replace('\"'\"'\\r\\n'\"'\"', '\"'\"'\\n'\"'\"');f.close();exec(compile(code, __file__, '\"'\"'exec'\"'\"'))' install --record /tmp/pip-record-j7f9294f/install-record.txt --single-version-externally-managed --compile --install-headers /usr/local/include/python3.7/pyaudio Check the logs for full command output.\u001b[0m\n"
     ]
    }
   ],
   "source": [
    "!pip install librosa soundfile numpy sklearn pyaudio"
   ]
  },
  {
   "cell_type": "code",
   "execution_count": 2,
   "metadata": {
    "colab": {
     "base_uri": "https://localhost:8080/"
    },
    "executionInfo": {
     "elapsed": 3343,
     "status": "ok",
     "timestamp": 1647199490232,
     "user": {
      "displayName": "LearnAI apss",
      "photoUrl": "https://lh3.googleusercontent.com/a/default-user=s64",
      "userId": "10463252222156590851"
     },
     "user_tz": -330
    },
    "id": "66ztOfiMvUGH",
    "outputId": "26643734-2384-4627-cc2f-b0d3df8e8e74"
   },
   "outputs": [
    {
     "name": "stdout",
     "output_type": "stream",
     "text": [
      "Requirement already satisfied: soundfile in /usr/local/lib/python3.7/dist-packages (0.10.3.post1)\n",
      "Requirement already satisfied: cffi>=1.0 in /usr/local/lib/python3.7/dist-packages (from soundfile) (1.15.0)\n",
      "Requirement already satisfied: pycparser in /usr/local/lib/python3.7/dist-packages (from cffi>=1.0->soundfile) (2.21)\n"
     ]
    }
   ],
   "source": [
    "!pip install soundfile"
   ]
  },
  {
   "cell_type": "code",
   "execution_count": 3,
   "metadata": {
    "executionInfo": {
     "elapsed": 2938,
     "status": "ok",
     "timestamp": 1647199498067,
     "user": {
      "displayName": "LearnAI apss",
      "photoUrl": "https://lh3.googleusercontent.com/a/default-user=s64",
      "userId": "10463252222156590851"
     },
     "user_tz": -330
    },
    "id": "AMDf9TN3vXmA"
   },
   "outputs": [],
   "source": [
    "import librosa\n",
    "import soundfile\n",
    "import os, glob, pickle\n",
    "import numpy as np\n",
    "from sklearn.model_selection import train_test_split\n",
    "from sklearn.neural_network import MLPClassifier\n",
    "from sklearn.metrics import accuracy_score"
   ]
  },
  {
   "cell_type": "code",
   "execution_count": 4,
   "metadata": {
    "executionInfo": {
     "elapsed": 402,
     "status": "ok",
     "timestamp": 1647199510059,
     "user": {
      "displayName": "LearnAI apss",
      "photoUrl": "https://lh3.googleusercontent.com/a/default-user=s64",
      "userId": "10463252222156590851"
     },
     "user_tz": -330
    },
    "id": "8KiDWHr2vZzR"
   },
   "outputs": [],
   "source": [
    "def extract_feature(file_name, mfcc, chroma, mel):\n",
    "    X, sample_rate = librosa.load(os.path.join(file_name), res_type='kaiser_fast')\n",
    "    if chroma:\n",
    "        stft=np.abs(librosa.stft(X))\n",
    "    result=np.array([])\n",
    "    if mfcc:\n",
    "        mfccs=np.mean(librosa.feature.mfcc(y=X, sr=sample_rate, n_mfcc=40).T, axis=0)\n",
    "        result=np.hstack((result, mfccs))\n",
    "    if chroma:\n",
    "        chroma=np.mean(librosa.feature.chroma_stft(S=stft, sr=sample_rate).T,axis=0)\n",
    "        result=np.hstack((result, chroma))\n",
    "    if mel:\n",
    "        mel=np.mean(librosa.feature.melspectrogram(X, sr=sample_rate).T,axis=0)\n",
    "        result=np.hstack((result, mel))\n",
    "    return result"
   ]
  },
  {
   "cell_type": "code",
   "execution_count": 5,
   "metadata": {
    "executionInfo": {
     "elapsed": 438,
     "status": "ok",
     "timestamp": 1647199521440,
     "user": {
      "displayName": "LearnAI apss",
      "photoUrl": "https://lh3.googleusercontent.com/a/default-user=s64",
      "userId": "10463252222156590851"
     },
     "user_tz": -330
    },
    "id": "ose4YhFQvdSk"
   },
   "outputs": [],
   "source": [
    "# Emotions in the RAVDESS & TESS dataset\n",
    "emotions={\n",
    "  '01':'neutral',\n",
    "  '02':'calm',\n",
    "  '03':'happy',\n",
    "  '04':'sad',\n",
    "  '05':'angry',\n",
    "  '06':'fearful',\n",
    "  '07':'disgust',\n",
    "  '08':'surprised'\n",
    "}\n",
    "# Emotions to observe\n",
    "observed_emotions=['neutral','calm','happy','sad','angry','fearful', 'disgust','surprised']"
   ]
  },
  {
   "cell_type": "code",
   "execution_count": 6,
   "metadata": {
    "executionInfo": {
     "elapsed": 382,
     "status": "ok",
     "timestamp": 1647200634112,
     "user": {
      "displayName": "LearnAI apss",
      "photoUrl": "https://lh3.googleusercontent.com/a/default-user=s64",
      "userId": "10463252222156590851"
     },
     "user_tz": -330
    },
    "id": "x7gI6HvcvgTI"
   },
   "outputs": [],
   "source": [
    "def load_data(test_size=0.2):\n",
    "    x,y=[],[]\n",
    "    for file in glob.glob('/content/drive/MyDrive/LearnAI_Ravindar_Projects/PJ_9_Speech/speech/Actor_*/*.wav'):\n",
    "        file_name=os.path.basename(file)\n",
    "        emotion=emotions[file_name.split(\"-\")[2]]\n",
    "        if emotion not in observed_emotions:\n",
    "            continue\n",
    "        feature=extract_feature(file, mfcc=True, chroma=True, mel=True)\n",
    "        x.append(feature)\n",
    "        y.append(emotion)\n",
    "    return train_test_split(np.array(x), y, test_size=test_size, train_size= 0.75,random_state=9)"
   ]
  },
  {
   "cell_type": "code",
   "execution_count": 7,
   "metadata": {
    "executionInfo": {
     "elapsed": 481581,
     "status": "ok",
     "timestamp": 1647201117330,
     "user": {
      "displayName": "LearnAI apss",
      "photoUrl": "https://lh3.googleusercontent.com/a/default-user=s64",
      "userId": "10463252222156590851"
     },
     "user_tz": -330
    },
    "id": "JiZ16WEbwPjH"
   },
   "outputs": [],
   "source": [
    "# Split the dataset\n",
    "import time\n",
    "x_train,x_test,y_train,y_test=load_data(test_size=0.25)\n"
   ]
  },
  {
   "cell_type": "code",
   "execution_count": 8,
   "metadata": {
    "colab": {
     "base_uri": "https://localhost:8080/"
    },
    "executionInfo": {
     "elapsed": 83,
     "status": "ok",
     "timestamp": 1647201117341,
     "user": {
      "displayName": "LearnAI apss",
      "photoUrl": "https://lh3.googleusercontent.com/a/default-user=s64",
      "userId": "10463252222156590851"
     },
     "user_tz": -330
    },
    "id": "BqIsIWxiwPl_",
    "outputId": "89675c67-6f30-4ed7-85b3-ef091033b1a8"
   },
   "outputs": [
    {
     "name": "stdout",
     "output_type": "stream",
     "text": [
      "(1080, 360)\n"
     ]
    }
   ],
   "source": [
    "#Get the shape of the training and testing datasets\n",
    "print((x_train.shape[0], x_test.shape[0]))"
   ]
  },
  {
   "cell_type": "code",
   "execution_count": 9,
   "metadata": {
    "colab": {
     "base_uri": "https://localhost:8080/"
    },
    "executionInfo": {
     "elapsed": 68,
     "status": "ok",
     "timestamp": 1647201117342,
     "user": {
      "displayName": "LearnAI apss",
      "photoUrl": "https://lh3.googleusercontent.com/a/default-user=s64",
      "userId": "10463252222156590851"
     },
     "user_tz": -330
    },
    "id": "RKCWJrTSwPo7",
    "outputId": "00bb64b8-0212-40e0-cf45-8175eafc321c"
   },
   "outputs": [
    {
     "name": "stdout",
     "output_type": "stream",
     "text": [
      "Features extracted: 180\n"
     ]
    }
   ],
   "source": [
    "# Get the number of features extracted\n",
    "print(f'Features extracted: {x_train.shape[1]}')"
   ]
  },
  {
   "cell_type": "code",
   "execution_count": 38,
   "metadata": {
    "executionInfo": {
     "elapsed": 665,
     "status": "ok",
     "timestamp": 1647201250132,
     "user": {
      "displayName": "LearnAI apss",
      "photoUrl": "https://lh3.googleusercontent.com/a/default-user=s64",
      "userId": "10463252222156590851"
     },
     "user_tz": -330
    },
    "id": "BjlRxK7wwPru"
   },
   "outputs": [],
   "source": [
    "# Initialize the Multi Layer Perceptron Classifier\n",
    "model=MLPClassifier(alpha=0.01, batch_size=256, epsilon=1e-08, hidden_layer_sizes=(300,), learning_rate='adaptive', max_iter=500)\n"
   ]
  },
  {
   "cell_type": "code",
   "execution_count": 39,
   "metadata": {
    "colab": {
     "base_uri": "https://localhost:8080/"
    },
    "executionInfo": {
     "elapsed": 3384,
     "status": "ok",
     "timestamp": 1647201254973,
     "user": {
      "displayName": "LearnAI apss",
      "photoUrl": "https://lh3.googleusercontent.com/a/default-user=s64",
      "userId": "10463252222156590851"
     },
     "user_tz": -330
    },
    "id": "SfG1KJU_wPu-",
    "outputId": "fec33d96-0bed-49ce-cb41-98002593710b"
   },
   "outputs": [
    {
     "data": {
      "text/plain": [
       "MLPClassifier(alpha=0.01, batch_size=256, hidden_layer_sizes=(300,),\n",
       "              learning_rate='adaptive', max_iter=500)"
      ]
     },
     "execution_count": 39,
     "metadata": {},
     "output_type": "execute_result"
    }
   ],
   "source": [
    "# Train the model\n",
    "model.fit(x_train,y_train)"
   ]
  },
  {
   "cell_type": "code",
   "execution_count": 40,
   "metadata": {
    "executionInfo": {
     "elapsed": 4,
     "status": "ok",
     "timestamp": 1647201254973,
     "user": {
      "displayName": "LearnAI apss",
      "photoUrl": "https://lh3.googleusercontent.com/a/default-user=s64",
      "userId": "10463252222156590851"
     },
     "user_tz": -330
    },
    "id": "OqK-tB5ewPxs"
   },
   "outputs": [],
   "source": [
    "# Predict for the test set\n",
    "y_pred=model.predict(x_test)"
   ]
  },
  {
   "cell_type": "code",
   "execution_count": 41,
   "metadata": {
    "colab": {
     "base_uri": "https://localhost:8080/"
    },
    "executionInfo": {
     "elapsed": 3,
     "status": "ok",
     "timestamp": 1647201254973,
     "user": {
      "displayName": "LearnAI apss",
      "photoUrl": "https://lh3.googleusercontent.com/a/default-user=s64",
      "userId": "10463252222156590851"
     },
     "user_tz": -330
    },
    "id": "U_mHvcOcwP1F",
    "outputId": "7b661fa7-3e11-4d68-96c3-334d9505eba9"
   },
   "outputs": [
    {
     "name": "stdout",
     "output_type": "stream",
     "text": [
      "Accuracy: 48.06%\n"
     ]
    }
   ],
   "source": [
    "# Calculate the accuracy of our model\n",
    "accuracy=accuracy_score(y_true=y_test, y_pred=y_pred)\n",
    "# Print the accuracy\n",
    "print(\"Accuracy: {:.2f}%\".format(accuracy*100))"
   ]
  },
  {
   "cell_type": "code",
   "execution_count": 32,
   "metadata": {
    "colab": {
     "base_uri": "https://localhost:8080/"
    },
    "executionInfo": {
     "elapsed": 391,
     "status": "ok",
     "timestamp": 1647201231832,
     "user": {
      "displayName": "LearnAI apss",
      "photoUrl": "https://lh3.googleusercontent.com/a/default-user=s64",
      "userId": "10463252222156590851"
     },
     "user_tz": -330
    },
    "id": "KaSu-hZpwrpg",
    "outputId": "c4dad546-6a74-4dc0-b11b-ebbec87d77cf"
   },
   "outputs": [
    {
     "name": "stdout",
     "output_type": "stream",
     "text": [
      "              precision    recall  f1-score   support\n",
      "\n",
      "       angry       0.71      0.69      0.70        52\n",
      "        calm       0.67      0.15      0.24        40\n",
      "     disgust       0.25      0.71      0.37        48\n",
      "     fearful       0.49      0.69      0.57        36\n",
      "       happy       0.55      0.36      0.44        47\n",
      "     neutral       0.12      0.03      0.05        29\n",
      "         sad       0.36      0.33      0.34        52\n",
      "   surprised       0.75      0.38      0.50        56\n",
      "\n",
      "    accuracy                           0.44       360\n",
      "   macro avg       0.49      0.42      0.40       360\n",
      "weighted avg       0.51      0.44      0.42       360\n",
      "\n"
     ]
    }
   ],
   "source": [
    "from sklearn.metrics import classification_report\n",
    "print(classification_report(y_test,y_pred))"
   ]
  },
  {
   "cell_type": "code",
   "execution_count": 33,
   "metadata": {
    "colab": {
     "base_uri": "https://localhost:8080/"
    },
    "executionInfo": {
     "elapsed": 2,
     "status": "ok",
     "timestamp": 1647201232973,
     "user": {
      "displayName": "LearnAI apss",
      "photoUrl": "https://lh3.googleusercontent.com/a/default-user=s64",
      "userId": "10463252222156590851"
     },
     "user_tz": -330
    },
    "id": "IzrbSKwCwrsp",
    "outputId": "12d7d48f-bf55-45fe-8091-e70970bee53a"
   },
   "outputs": [
    {
     "name": "stdout",
     "output_type": "stream",
     "text": [
      "[[36  0 10  1  2  0  2  1]\n",
      " [ 0  6 19  5  0  3  7  0]\n",
      " [ 3  0 34  3  4  1  2  1]\n",
      " [ 4  0  3 25  0  1  3  0]\n",
      " [ 6  0 13  2 17  2  4  3]\n",
      " [ 0  0 13  4  0  1 10  1]\n",
      " [ 1  3 19 10  1  0 17  1]\n",
      " [ 1  0 24  1  7  0  2 21]]\n"
     ]
    }
   ],
   "source": [
    "from sklearn.metrics import confusion_matrix\n",
    "matrix = confusion_matrix(y_test,y_pred)\n",
    "print (matrix)"
   ]
  },
  {
   "cell_type": "code",
   "execution_count": null,
   "metadata": {
    "id": "CvQDx9aTwrwV"
   },
   "outputs": [],
   "source": []
  },
  {
   "cell_type": "code",
   "execution_count": null,
   "metadata": {
    "id": "ysyfzIStwrzk"
   },
   "outputs": [],
   "source": []
  }
 ],
 "metadata": {
  "colab": {
   "authorship_tag": "ABX9TyNgSwau8w3SalFqZSxBCJ0/",
   "mount_file_id": "1FeWC75Hb-sionPAQuZ7u8Op82jFWBbj-",
   "name": "Speech_MLP.ipynb",
   "provenance": []
  },
  "kernelspec": {
   "display_name": "Python 3 (ipykernel)",
   "language": "python",
   "name": "python3"
  },
  "language_info": {
   "codemirror_mode": {
    "name": "ipython",
    "version": 3
   },
   "file_extension": ".py",
   "mimetype": "text/x-python",
   "name": "python",
   "nbconvert_exporter": "python",
   "pygments_lexer": "ipython3",
   "version": "3.12.1"
  }
 },
 "nbformat": 4,
 "nbformat_minor": 4
}
